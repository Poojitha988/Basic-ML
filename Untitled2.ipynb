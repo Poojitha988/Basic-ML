{
  "nbformat": 4,
  "nbformat_minor": 0,
  "metadata": {
    "colab": {
      "name": "Untitled2.ipynb",
      "provenance": [],
      "authorship_tag": "ABX9TyOO1CSPXfplSxIDvYeTK7z0",
      "include_colab_link": true
    },
    "kernelspec": {
      "name": "python3",
      "display_name": "Python 3"
    },
    "language_info": {
      "name": "python"
    }
  },
  "cells": [
    {
      "cell_type": "markdown",
      "metadata": {
        "id": "view-in-github",
        "colab_type": "text"
      },
      "source": [
        "<a href=\"https://colab.research.google.com/github/Poojitha988/Basic-ML/blob/main/Untitled2.ipynb\" target=\"_parent\"><img src=\"https://colab.research.google.com/assets/colab-badge.svg\" alt=\"Open In Colab\"/></a>"
      ]
    },
    {
      "cell_type": "markdown",
      "metadata": {
        "id": "MlTLmCnxc7dL"
      },
      "source": [
        "Python program's"
      ]
    },
    {
      "cell_type": "markdown",
      "metadata": {
        "id": "LkMntVHmc-EB"
      },
      "source": [
        "1.To find the given number is odd or even"
      ]
    },
    {
      "cell_type": "code",
      "metadata": {
        "id": "59K6MQecdDys"
      },
      "source": [
        " \n",
        "n=int(input())\n",
        "if n%2==0:\n",
        "    print(\"even\")\n",
        "else:\n",
        "    print(\"odd\")"
      ],
      "execution_count": null,
      "outputs": []
    },
    {
      "cell_type": "markdown",
      "metadata": {
        "id": "hYFVJ38RdFBU"
      },
      "source": [
        "2.To find the sum of given numbers"
      ]
    },
    {
      "cell_type": "code",
      "metadata": {
        "id": "xzl3hDw9dUrN"
      },
      "source": [
        " \n",
        "n=int(input())\n",
        "sum=0\n",
        "while(n!=0):\n",
        "  rem=n%10\n",
        "  sum=sum+rem\n",
        "  n=n//10\n",
        "print(sum)"
      ],
      "execution_count": null,
      "outputs": []
    },
    {
      "cell_type": "markdown",
      "metadata": {
        "id": "YqPOJ9xcdZUb"
      },
      "source": [
        "3.To find the factorial of given number"
      ]
    },
    {
      "cell_type": "code",
      "metadata": {
        "id": "eNGyV63Fdhpz"
      },
      "source": [
        " \n",
        "n=int(input())\n",
        "f=1\n",
        "for i in range(1,n+1):\n",
        "   f=f*i\n",
        "print(f)"
      ],
      "execution_count": null,
      "outputs": []
    },
    {
      "cell_type": "markdown",
      "metadata": {
        "id": "IGoojBZadivZ"
      },
      "source": [
        ""
      ]
    }
  ]
}